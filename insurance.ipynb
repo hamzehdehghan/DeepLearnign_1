{
  "nbformat": 4,
  "nbformat_minor": 0,
  "metadata": {
    "colab": {
      "name": "insurance.ipynb",
      "provenance": [],
      "authorship_tag": "ABX9TyM5fCiJ/4qaxTRnT94OYxNE",
      "include_colab_link": true
    },
    "kernelspec": {
      "name": "python3",
      "display_name": "Python 3"
    },
    "language_info": {
      "name": "python"
    }
  },
  "cells": [
    {
      "cell_type": "markdown",
      "metadata": {
        "id": "view-in-github",
        "colab_type": "text"
      },
      "source": [
        "<a href=\"https://colab.research.google.com/github/hamzehdehghan/DeepLearnign_1/blob/main/insurance.ipynb\" target=\"_parent\"><img src=\"https://colab.research.google.com/assets/colab-badge.svg\" alt=\"Open In Colab\"/></a>"
      ]
    },
    {
      "cell_type": "code",
      "execution_count": 17,
      "metadata": {
        "id": "fPzr5Dg9Ee9J"
      },
      "outputs": [],
      "source": [
        "import pandas as pd\n",
        "import numpy as np\n",
        "import matplotlib.pyplot as plt\n",
        "%matplotlib inline\n",
        "import seaborn as sns\n",
        "import warnings\n",
        "warnings.filterwarnings('ignore')"
      ]
    },
    {
      "cell_type": "code",
      "source": [
        "df = pd.read_csv('/insurance.csv')"
      ],
      "metadata": {
        "id": "sdX7A7equ4dc"
      },
      "execution_count": 8,
      "outputs": []
    },
    {
      "cell_type": "code",
      "source": [
        "df.shape\n",
        "df.head()\n",
        "df.describe()\n",
        "df.dtypes\n",
        "df.isnull().sum()\n"
      ],
      "metadata": {
        "id": "l0voauP8vGZy"
      },
      "execution_count": null,
      "outputs": []
    },
    {
      "cell_type": "code",
      "source": [
        "sns.set(style='whitegrid')\n",
        "f, ax = plt.subplots(1,1, figsize=(12,8))\n",
        "ax = sns.distplot(df['charges'], kde = True, color = 'c')\n",
        "plt.title('Distribution of Charges')\n",
        "f, ax = plt.subplots(1,1, figsize=(12,8))\n",
        "ax = sns.distplot(np.log10(df['charges']), kde= True, color = 'r')\n",
        "plt.title('Distribution of Log Charges')"
      ],
      "metadata": {
        "id": "4goeYMsqxQOx"
      },
      "execution_count": null,
      "outputs": []
    },
    {
      "cell_type": "code",
      "source": [
        "charges = df['charges'].groupby(df.region).sum().sort_values(ascending=True)\n",
        "f, ax = plt.subplots(1,1, figsize=(12,8))\n",
        "ax = sns.barplot(charges.head(), charges.head().index, palette='Blues')"
      ],
      "metadata": {
        "id": "CsL6VAtxx720"
      },
      "execution_count": null,
      "outputs": []
    },
    {
      "cell_type": "code",
      "source": [
        "f, ax = plt.subplots(1,1, figsize=(12, 8))\n",
        "ax = sns.barplot(x='region', y='charges', hue='sex', data=df, palette='cool')"
      ],
      "metadata": {
        "id": "O_ls4DCD0oDh"
      },
      "execution_count": null,
      "outputs": []
    },
    {
      "cell_type": "code",
      "source": [
        "f, ax = plt.subplots(1,1, figsize=(12,8))\n",
        "ax = sns.barplot(x = 'region', y = 'charges',\n",
        "                 hue='smoker', data=df, palette='Reds_r')"
      ],
      "metadata": {
        "id": "GJ2K40t81Tfj"
      },
      "execution_count": null,
      "outputs": []
    },
    {
      "cell_type": "code",
      "source": [
        "f, ax = plt.subplots(1, 1, figsize=(12, 8))\n",
        "ax = sns.barplot(x='region', y='charges', hue='children', data=df, palette='Set1')"
      ],
      "metadata": {
        "id": "CgDz1sff1cES"
      },
      "execution_count": null,
      "outputs": []
    },
    {
      "cell_type": "code",
      "source": [
        "ax = sns.lmplot(x = 'age', y = 'charges', data=df, hue='smoker', palette='Set1')\n",
        "ax = sns.lmplot(x = 'bmi', y = 'charges', data=df, hue='smoker', palette='Set2')\n",
        "ax = sns.lmplot(x = 'children', y = 'charges', data=df, hue='smoker', palette='Set3')"
      ],
      "metadata": {
        "id": "6aEn0kRB1uHg"
      },
      "execution_count": null,
      "outputs": []
    },
    {
      "cell_type": "code",
      "source": [
        "f, ax = plt.subplots(1, 1, figsize=(10, 10))\n",
        "ax = sns.violinplot(x = 'children', y = 'charges', data=df,\n",
        "                 orient='v', hue='smoker', palette='inferno')"
      ],
      "metadata": {
        "id": "kImYw0bn1_rP"
      },
      "execution_count": null,
      "outputs": []
    },
    {
      "cell_type": "markdown",
      "source": [
        "##Converting objects labels into categorical"
      ],
      "metadata": {
        "id": "Qqa3_55V2Dv2"
      }
    },
    {
      "cell_type": "code",
      "source": [
        "df[['sex', 'smoker', 'region']] = df[['sex', 'smoker', 'region']].astype('category')\n",
        "df.dtypes"
      ],
      "metadata": {
        "id": "A1ShneP-2Ioi"
      },
      "execution_count": null,
      "outputs": []
    },
    {
      "cell_type": "code",
      "source": [
        "##Converting category labels into numerical using LabelEncoder\n",
        "from sklearn.preprocessing import LabelEncoder\n",
        "lblencoder = LabelEncoder()\n",
        "lblencoder.fit(df.sex.drop_duplicates())\n",
        "df.sex = lblencoder.transform(df.sex)\n",
        "lblencoder.fit(df.smoker.drop_duplicates())\n",
        "df.smoker = lblencoder.transform(df.smoker)\n",
        "lblencoder.fit(df.region.drop_duplicates())\n",
        "df.region = lblencoder.transform(df.region)\n",
        "df.dtypes"
      ],
      "metadata": {
        "id": "hpuTsgWa2Z6x"
      },
      "execution_count": null,
      "outputs": []
    },
    {
      "cell_type": "code",
      "source": [
        "f, ax = plt.subplots(1, 1, figsize=(10, 10))\n",
        "ax = sns.heatmap(df.corr(), annot=True,  cmap='cool')"
      ],
      "metadata": {
        "id": "2l1ORBNx4eeq"
      },
      "execution_count": null,
      "outputs": []
    },
    {
      "cell_type": "markdown",
      "source": [
        "Linear Regression"
      ],
      "metadata": {
        "id": "OVJrumyC5KYt"
      }
    },
    {
      "cell_type": "code",
      "source": [
        "from sklearn.model_selection import train_test_split as holdout\n",
        "from sklearn.linear_model import LinearRegression\n",
        "from sklearn import metrics\n",
        "x = df.drop('charges', axis=1)\n",
        "y = df['charges']\n",
        "x_train, x_test, y_train, y_test = holdout(x, y, test_size=0.2, random_state=0)\n",
        "Lin_reg = LinearRegression()\n",
        "Lin_reg.fit(x_train, y_train)\n",
        "print(Lin_reg.intercept_)\n",
        "print(Lin_reg.coef_)\n",
        "print(Lin_reg.score(x_test, y_test))"
      ],
      "metadata": {
        "id": "0DrWDezw5NqQ"
      },
      "execution_count": null,
      "outputs": []
    },
    {
      "cell_type": "markdown",
      "source": [
        "**Ridge Regression**"
      ],
      "metadata": {
        "id": "vMcj9LY863Ft"
      }
    },
    {
      "cell_type": "code",
      "source": [
        "from sklearn.linear_model import Ridge\n",
        "Ridge = Ridge(alpha=0.2)\n",
        "Ridge.fit(x_train, y_train)\n",
        "print(Ridge.intercept_)\n",
        "print(Ridge.coef_)\n",
        "print(Ridge.score(x_test, y_test))"
      ],
      "metadata": {
        "id": "l3MnSmNW67Qp"
      },
      "execution_count": null,
      "outputs": []
    },
    {
      "cell_type": "markdown",
      "source": [
        "Lasso Regression"
      ],
      "metadata": {
        "id": "tbl-HaCs7oHC"
      }
    },
    {
      "cell_type": "code",
      "source": [
        "from sklearn.linear_model import Lasso\n",
        "Lasso = Lasso(alpha=0.2)\n",
        "Lasso.fit(x_train, y_train)\n",
        "print(Lasso.intercept_)\n",
        "print(Lasso.coef_)\n",
        "print(Lasso.score(x_test, y_test))"
      ],
      "metadata": {
        "id": "NMsDwH7p7q70"
      },
      "execution_count": null,
      "outputs": []
    },
    {
      "cell_type": "markdown",
      "source": [
        "Random Forest Regressor"
      ],
      "metadata": {
        "id": "87GgniXI86sn"
      }
    },
    {
      "cell_type": "code",
      "source": [
        "from sklearn.ensemble import RandomForestRegressor as rfr\n",
        "Rfr = rfr(n_estimators = 100, criterion = 'mse',\n",
        "                              random_state = 1,\n",
        "                              n_jobs = -1)\n",
        "Rfr.fit(x_train,y_train)\n",
        "x_train_pred = Rfr.predict(x_train)\n",
        "x_test_pred = Rfr.predict(x_test)\n",
        "\n",
        "print('MSE train data: %.3f, MSE test data: %.3f' % \n",
        "      (metrics.mean_squared_error(x_train_pred, y_train),\n",
        "       metrics.mean_squared_error(x_test_pred, y_test)))\n",
        "print('R2 train data: %.3f, R2 test data: %.3f' % \n",
        "      (metrics.r2_score(y_train,x_train_pred ),\n",
        "       metrics.r2_score(y_test,x_test_pred)))\n"
      ],
      "metadata": {
        "id": "4O_yg1tO890t"
      },
      "execution_count": null,
      "outputs": []
    },
    {
      "cell_type": "code",
      "source": [
        "plt.figure(figsize=(8,6))\n",
        "\n",
        "plt.scatter(x_train_pred, x_train_pred - y_train,\n",
        "          c = 'gray', marker = 'o', s = 35, alpha = 0.5,\n",
        "          label = 'Train data')\n",
        "plt.scatter(x_test_pred, x_test_pred - y_test,\n",
        "          c = 'blue', marker = 'o', s = 35, alpha = 0.7,\n",
        "          label = 'Test data')\n",
        "plt.xlabel('Predicted values')\n",
        "plt.ylabel('Actual values')\n",
        "plt.legend(loc = 'upper right')\n",
        "plt.hlines(y = 0, xmin = 0, xmax = 60000, lw = 2, color = 'red')\n"
      ],
      "metadata": {
        "id": "w6hby0XmAeuM"
      },
      "execution_count": null,
      "outputs": []
    },
    {
      "cell_type": "code",
      "source": [
        "print('Feature importance ranking\\n\\n')\n",
        "importances = Rfr.feature_importances_\n",
        "std = np.std([tree.feature_importances_ for tree in Rfr.estimators_],axis=0)\n",
        "indices = np.argsort(importances)[::-1]\n",
        "variables = ['age', 'sex', 'bmi', 'children','smoker', 'region']\n",
        "importance_list = []\n",
        "for f in range(x.shape[1]):\n",
        "    variable = variables[indices[f]]\n",
        "    importance_list.append(variable)\n",
        "    print(\"%d.%s(%f)\" % (f + 1, variable, importances[indices[f]]))\n",
        "\n",
        "# Plot the feature importances of the forest\n",
        "plt.figure()\n",
        "plt.title(\"Feature importances\")\n",
        "plt.bar(importance_list, importances[indices],\n",
        "       color=\"y\", yerr=std[indices], align=\"center\")"
      ],
      "metadata": {
        "id": "2pSPP9lIWw2g"
      },
      "execution_count": null,
      "outputs": []
    },
    {
      "cell_type": "markdown",
      "source": [
        "Polynomial Regression"
      ],
      "metadata": {
        "id": "z23F56P9XUbd"
      }
    },
    {
      "cell_type": "code",
      "source": [
        "from sklearn.preprocessing import PolynomialFeatures\n",
        "x = df.drop(['charges', 'sex', 'region'], axis = 1)\n",
        "y = df.charges\n",
        "pol = PolynomialFeatures (degree = 2)\n",
        "x_pol = pol.fit_transform(x)\n",
        "x_train, x_test, y_train, y_test = holdout(x_pol, y, test_size=0.2, random_state=0)\n",
        "Pol_reg = LinearRegression()\n",
        "Pol_reg.fit(x_train, y_train)\n",
        "y_train_pred = Pol_reg.predict(x_train)\n",
        "y_test_pred = Pol_reg.predict(x_test)\n",
        "print(Pol_reg.intercept_)\n",
        "print(Pol_reg.coef_)\n",
        "print(Pol_reg.score(x_test, y_test))"
      ],
      "metadata": {
        "id": "3Wi2Zkj_XVN8"
      },
      "execution_count": null,
      "outputs": []
    },
    {
      "cell_type": "code",
      "source": [
        "##Evaluating the performance of the algorithm\n",
        "print('Mean Absolute Error:', metrics.mean_absolute_error(y_test, y_test_pred))\n",
        "print('Mean Squared Error:', metrics.mean_squared_error(y_test, y_test_pred))\n",
        "print('Root Mean Squared Error:', np.sqrt(metrics.mean_squared_error(y_test, y_test_pred)))"
      ],
      "metadata": {
        "id": "2NH3o-ETXcba"
      },
      "execution_count": null,
      "outputs": []
    },
    {
      "cell_type": "code",
      "source": [
        "##Predicting the charges\n",
        "y_test_pred = Pol_reg.predict(x_test)\n",
        "##Comparing the actual output values with the predicted values\n",
        "df = pd.DataFrame({'Actual': y_test, 'Predicted': y_test_pred})\n",
        "df"
      ],
      "metadata": {
        "id": "CmdAZu9RXgey"
      },
      "execution_count": null,
      "outputs": []
    }
  ]
}